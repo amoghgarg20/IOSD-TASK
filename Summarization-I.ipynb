{
 "cells": [
  {
   "cell_type": "code",
   "execution_count": 1,
   "id": "cf73ba2a",
   "metadata": {},
   "outputs": [],
   "source": [
    "#Extractive Summarization\n",
    "import spacy\n",
    "from spacy.lang.en.stop_words import STOP_WORDS\n",
    "from string import punctuation"
   ]
  },
  {
   "cell_type": "code",
   "execution_count": 2,
   "id": "7a120999",
   "metadata": {},
   "outputs": [],
   "source": [
    "nlp=spacy.load('en_core_web_sm')"
   ]
  },
  {
   "cell_type": "code",
   "execution_count": 3,
   "id": "d92d03fb",
   "metadata": {},
   "outputs": [],
   "source": [
    "f=open('input.txt','r',encoding='utf-8')\n",
    "text=''\n",
    "text=f.read().replace('\\n','')"
   ]
  },
  {
   "cell_type": "code",
   "execution_count": 4,
   "id": "454ccc37",
   "metadata": {},
   "outputs": [],
   "source": [
    "doc=nlp(text)\n",
    "tokens=[token.text for token in doc]"
   ]
  },
  {
   "cell_type": "code",
   "execution_count": 5,
   "id": "adc726d8",
   "metadata": {},
   "outputs": [
    {
     "name": "stdout",
     "output_type": "stream",
     "text": [
      "{'Diwali': 21, 'known': 3, 'festival': 29, 'lights': 9, 'celebrated': 9, 'parts': 1, 'India': 4, 'Indian': 2, 'marks': 2, 'victory': 6, 'good': 3, 'bad': 1, 'evil': 2, 'Indians': 3, 'great': 2, 'enthusiasm': 1, 'commemorates': 1, 'joy': 3, 'harmony': 2, 'return': 2, 'Lord': 5, 'Ram': 1, 'exile': 3, 'described': 1, 'epic': 1, 'Ramayana': 1, 'called': 4, 'Deepavali': 3, 'Deep': 2, 'means': 5, 'light': 4, 'Avali': 2, 'array': 2, 'lighting': 2, 'lamps': 7, 'usually': 2, 'earthen': 2, 'house': 2, 'office': 2, 'symbolises': 1, 'darkness': 1, 'Generally': 1, 'according': 1, 'stars': 1, 'date': 2, 'falls': 2, 'October': 2, 'November': 2, 'expected': 1, '20': 2, 'days': 7, 'Dussehra': 2, 'Hindu': 1, 'month': 3, 'Kartika': 1, 'Elaborate': 1, 'Essay': 1, 'DiwaliDiwali': 1, 'biggest': 1, 'grandest': 1, 'festivals': 1, 'mainly': 1, 'commemorated': 1, 'mark': 1, 'word': 2, '‘': 3, '’': 3, 'Hindi': 1, 'queue': 1, 'array).Diwali': 1, 'honour': 1, 'Ramchandra': 1, 'day': 6, 'Rama': 2, 'returned': 1, 'Ayodhya': 2, '14': 1, 'years': 1, 'period': 1, 'fought': 1, 'demons': 1, 'demon': 1, 'king': 1, 'Ravana': 1, 'powerful': 1, 'ruler': 1, 'Lanka': 1, 'people': 5, 'lit': 2, 'diyas': 2, 'welcome': 1, 'celebrate': 5, 'declare': 1, 'fun': 3, 'happiness': 2, 'People': 3, 'decorate': 2, 'homes': 1, 'offices': 1, 'cook': 1, 'delicious': 1, 'food': 1, 'exchange': 2, 'gifts': 3, 'share': 1, 'places': 2, 'business': 1, 'consider': 1, 'start': 2, 'financial': 1, 'new': 8, 'year': 2, 'Goddess': 4, 'Lakshmi': 6, 'God': 1, 'wealth': 2, 'worshipped': 3, 'devotion': 2, 'Day': 1, '5': 1, 'long': 1, 'Dhanteras': 2, 'Naraka': 1, 'Chaturdashi': 1, 'Pooja': 2, 'Govardhan': 1, 'Bhai': 1, 'Dooj': 1, 'preparations': 2, 'important': 3, 'significance': 1, 'actual': 1, 'indulge': 1, 'buying': 3, 'clothes': 2, 'books': 1, 'crackers': 11, 'sweets': 2, 'dry': 1, 'fruits': 1, 'etc': 2, 'believe': 1, 'discarding': 2, 'old': 3, 'things': 1, 'ones': 2, 'refresher': 1, 'involves': 1, 'unused': 1, 'items': 3, 'home': 1, 'brings': 2, 'fresh': 1, 'believed': 2, 'visits': 2, 'place': 1, 'worship': 2, 'maybe': 1, 'blesses': 1, 'lot': 2, 'discipline': 1, 'goes': 1, 'celebration': 1, 'courtyards': 1, 'decorated': 1, 'colourful': 1, 'rangoli': 3, 'dress': 1, 'eat': 1, 'delicacies': 1, 'sun': 1, 'sets': 1, 'burst': 5, 'Crackers': 1, 'noise': 3, 'play': 1, 'considering': 1, 'environmental': 1, 'pollution': 4, 'burn': 1, 'safe': 3, 'harmful': 1, 'material': 1, 'instances': 1, 'kids': 2, 'hurt': 1, 'bursting': 2, 'adult': 1, 'supervision': 1, 'best': 1, 'reduce': 1, 'number': 1, 'causes': 1, 'air': 3, 'Noise': 1, 'hurts': 1, 'animals': 2, 'scared': 1, 'let': 2, 'forget': 2, 'environment': 1, 'cause': 2, 'harm': 1, 'enjoy': 1, 'festivities': 2, 'tradition': 2, 'eco': 2, 'friendly': 2, 'way': 1, 'goddess': 1, 'Ganesha': 2, 'eve': 1, 'demolisher': 1, 'obstacles': 1, 'wisdom': 1, 'intellect': 1, 'occasion': 2, 'prosperity': 1, 'puja': 1, 'said': 1, 'evoke': 1, 'blessings': 1, 'deities': 1, 'preparation': 1, 'commences': 1, 'prior': 1, 'starts': 1, 'thorough': 1, 'cleaning': 1, 'houses': 4, 'shops': 1, 'discard': 1, 'household': 1, 'renovation': 1, 'work': 1, 'onset': 1, 'night': 1, 'bless': 1, 'devotees': 1, 'clean': 1, 'fairy': 1, 'flowers': 1, 'candles': 1, 'garlands': 1, 'buy': 1, 'especially': 1, 'ornaments': 1, 'adorn': 1, 'custom': 1, 'visit': 1, 'friends': 1, 'families': 1, 'Lots': 1, 'specialities': 1, 'prepared': 1, 'enjoyed': 1, 'Amid': 1, 'tend': 1, 'lead': 1, 'dangerous': 1, 'fatal': 1, 'burns': 1, 'Bursting': 1, 'reduces': 1, 'quality': 1, 'index': 1, 'visibility': 1, 'responsible': 1, 'accidents': 1, 'reported': 1, 'rightly': 1, 'world': 3, 'brightens': 1, 'favourite': 1, 'festival!It': 1, 'aptly': 1, 'given': 1, 'satellite': 1, 'images': 1, 'looks': 1, 'global': 1, 'join': 1, 'hands': 1, 'oath': 1, 'traditional': 1, 'responsibility': 1, 'including': 1, 'mother': 1, 'earth': 1, 'free': 1}\n"
     ]
    }
   ],
   "source": [
    "stopwords=list(STOP_WORDS)\n",
    "puntuation=punctuation+'\\n'\n",
    "word_freq={}\n",
    "for word in doc:\n",
    "    if word.text.lower() not in stopwords:\n",
    "        if word.text.lower() not in punctuation:\n",
    "            if word.text not in word_freq.keys():\n",
    "                word_freq[word.text]=1\n",
    "            else:\n",
    "                word_freq[word.text]+=1\n",
    "print(word_freq)"
   ]
  },
  {
   "cell_type": "code",
   "execution_count": 6,
   "id": "316ac2a5",
   "metadata": {},
   "outputs": [],
   "source": [
    "for word in word_freq.keys():\n",
    "    word_freq[word]=word_freq[word]/max(word_freq.values())"
   ]
  },
  {
   "cell_type": "code",
   "execution_count": 7,
   "id": "632c6378",
   "metadata": {},
   "outputs": [],
   "source": [
    "#SENTENCE TOKENIZATION\n",
    "sen_tokens=[sent for sent in doc.sents]"
   ]
  },
  {
   "cell_type": "code",
   "execution_count": 8,
   "id": "df67fe32",
   "metadata": {},
   "outputs": [],
   "source": [
    "sen_scores={}\n",
    "for sent in sen_tokens:\n",
    "    for word in sent:\n",
    "        if word.text.lower() in word_freq.keys():\n",
    "            if sent not in sen_scores.keys():\n",
    "                sen_scores[sent]=word_freq[word.text.lower()]\n",
    "            else:\n",
    "                sen_scores[sent]+=word_freq[word.text.lower()]"
   ]
  },
  {
   "cell_type": "code",
   "execution_count": 9,
   "id": "79c8c41c",
   "metadata": {},
   "outputs": [],
   "source": [
    "from heapq import nlargest"
   ]
  },
  {
   "cell_type": "code",
   "execution_count": 10,
   "id": "51dda03a",
   "metadata": {},
   "outputs": [
    {
     "data": {
      "text/plain": [
       "19"
      ]
     },
     "execution_count": 10,
     "metadata": {},
     "output_type": "execute_result"
    }
   ],
   "source": [
    "length=int(len(sen_tokens)*0.3)\n",
    "length"
   ]
  },
  {
   "cell_type": "code",
   "execution_count": 11,
   "id": "01a606db",
   "metadata": {},
   "outputs": [
    {
     "name": "stdout",
     "output_type": "stream",
     "text": [
      "So let us all join hands and take an oath to celebrate this traditional festival with responsibility so that everyone, including mother earth, is safe and free from pollution. The festival brings joy and hence, it is my favourite festival!It is aptly given the name Diwali as the whole world lights up on this day of the festival. The preparations start from one month before the actual date of the festival and people indulge in buying new clothes, gifts, new books, lights, crackers, sweets, dry fruits, etc. The word ‘Deepavali’ is a Hindi word which means an array of lamps (‘Deep’ means earthen lamps and ‘Avali’ means a queue or an array).Diwali is celebrated in the honour of Lord Ramchandra because on this day Lord Rama returned to Ayodhya after 14 years of exile. Hence, all the devotees clean and decorate their houses with fairy lights, flowers, rangoli, candles, diyas, garlands etc. for the festival. This also involves discarding unused old items at home and buying new ones in the name of Diwali, so the festival brings in everything fresh and new. Also, it is best to reduce the number of crackers you burst as it causes a lot of air and noise pollution. Bursting crackers reduces air-quality index and visibility at many places which are responsible for accidents that are often reported after the festival. Amid all the festivities, we tend to forget that bursting crackers lead to noise and air pollution. People dress in new clothes, eat the delicacies, light lamps, and as the sun sets, they burst crackers. These days Indians all over the world celebrate Diwali by lighting lamps, and hence it is a global festival. The next days are to celebrate Diwali when people burst crackers and adorn their houses. Diwali is rightly called the festival of light as the whole world brightens up on this day. Many people also discard all the old household items and get all the renovation work done before the onset of the festival. However, considering the environmental pollution, it is good not to burn too many crackers, and also they are not safe as they are made of harmful material. However, to keep up the tradition, we can just burst a few crackers and celebrate in an eco-friendly way. On the day of the festival, courtyards are decorated with colourful rangoli, and lamps are lit on the rangoli. So this festival is celebrated by lighting lamps (usually earthen lamps) all around the house/office. Diwali, well known as the festival of lights, is a festival that is celebrated in almost all parts of India.\n"
     ]
    }
   ],
   "source": [
    "summary=nlargest(length,sen_scores,key=sen_scores.get)\n",
    "final_summ=[word.text for word in summary]\n",
    "summary=' '.join(final_summ)\n",
    "print(summary)"
   ]
  },
  {
   "cell_type": "code",
   "execution_count": 12,
   "id": "8b3228be",
   "metadata": {},
   "outputs": [
    {
     "name": "stdout",
     "output_type": "stream",
     "text": [
      "6105\n",
      "2528\n"
     ]
    }
   ],
   "source": [
    "print(len(text))\n",
    "print(len(summary))"
   ]
  },
  {
   "cell_type": "code",
   "execution_count": 13,
   "id": "f65985d2",
   "metadata": {},
   "outputs": [],
   "source": [
    "#Drawback: The relative order of the sentences changes in the summary according to sentence scores."
   ]
  },
  {
   "cell_type": "code",
   "execution_count": null,
   "id": "2d1a95e2",
   "metadata": {},
   "outputs": [],
   "source": []
  }
 ],
 "metadata": {
  "kernelspec": {
   "display_name": "Python 3 (ipykernel)",
   "language": "python",
   "name": "python3"
  },
  "language_info": {
   "codemirror_mode": {
    "name": "ipython",
    "version": 3
   },
   "file_extension": ".py",
   "mimetype": "text/x-python",
   "name": "python",
   "nbconvert_exporter": "python",
   "pygments_lexer": "ipython3",
   "version": "3.10.0"
  }
 },
 "nbformat": 4,
 "nbformat_minor": 5
}
