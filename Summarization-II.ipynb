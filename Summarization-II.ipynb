{
 "cells": [
  {
   "cell_type": "code",
   "execution_count": 1,
   "id": "3122e4dc",
   "metadata": {},
   "outputs": [],
   "source": [
    "#Extractive Summarization Model-II\n",
    "from nltk.corpus import stopwords\n",
    "from nltk.stem import PorterStemmer\n",
    "from nltk.tokenize import word_tokenize, sent_tokenize\n",
    "import bs4 as BeautifulSoup\n",
    "import urllib.request"
   ]
  },
  {
   "cell_type": "code",
   "execution_count": 2,
   "id": "9ddfe50b",
   "metadata": {},
   "outputs": [],
   "source": [
    "def _create_dictionary_table(text_string) -> dict:\n",
    "    #removing stop words\n",
    "    stop_words = set(stopwords.words(\"english\"))\n",
    "    words = word_tokenize(text_string)\n",
    "    #reducing words to their root form\n",
    "    stem = PorterStemmer()\n",
    "    #creating dictionary for the word frequency table\n",
    "    frequency_table = dict()\n",
    "    for wd in words:\n",
    "        wd = stem.stem(wd)\n",
    "        if wd in stop_words:\n",
    "            continue\n",
    "        if wd in frequency_table:\n",
    "            frequency_table[wd] += 1\n",
    "        else:\n",
    "            frequency_table[wd] = 1\n",
    "\n",
    "    return frequency_table"
   ]
  },
  {
   "cell_type": "code",
   "execution_count": 3,
   "id": "c1cc9937",
   "metadata": {},
   "outputs": [],
   "source": [
    "def _calculate_sentence_scores(sentences, frequency_table) -> dict:   \n",
    "\n",
    "    #algorithm for scoring a sentence by its words\n",
    "    sentence_weight = dict()\n",
    "\n",
    "    for sentence in sentences:\n",
    "        sentence_wordcount = (len(word_tokenize(sentence)))\n",
    "        sentence_wordcount_without_stop_words = 0\n",
    "        for word_weight in frequency_table:\n",
    "            if word_weight in sentence.lower():\n",
    "                sentence_wordcount_without_stop_words += 1\n",
    "                if sentence[:4] in sentence_weight:\n",
    "                    sentence_weight[sentence[:4]] += frequency_table[word_weight]\n",
    "                else:\n",
    "                    sentence_weight[sentence[:4]] = frequency_table[word_weight]\n",
    "\n",
    "        sentence_weight[sentence[:4]] = sentence_weight[sentence[:4]] / sentence_wordcount_without_stop_words\n",
    "\n",
    "       \n",
    "\n",
    "    return sentence_weight"
   ]
  },
  {
   "cell_type": "code",
   "execution_count": 4,
   "id": "bf031272",
   "metadata": {},
   "outputs": [],
   "source": [
    "def _calculate_average_score(sentence_weight) -> int:\n",
    "   \n",
    "    #calculating the average score for the sentences\n",
    "    sum_values = 0\n",
    "    for entry in sentence_weight:\n",
    "        sum_values += sentence_weight[entry]\n",
    "\n",
    "    #getting sentence average value from source text\n",
    "    average_score = (sum_values / len(sentence_weight))\n",
    "\n",
    "    return average_score"
   ]
  },
  {
   "cell_type": "code",
   "execution_count": 5,
   "id": "dcabeb47",
   "metadata": {},
   "outputs": [],
   "source": [
    "def _get_article_summary(sentences, sentence_weight, threshold):\n",
    "    sentence_counter = 0\n",
    "    article_summary = ''\n",
    "\n",
    "    for sentence in sentences:\n",
    "        if sentence[:4] in sentence_weight and sentence_weight[sentence[:4]] >= (threshold):\n",
    "            article_summary += \" \" + sentence\n",
    "            sentence_counter += 1\n",
    "\n",
    "    return article_summary\n"
   ]
  },
  {
   "cell_type": "code",
   "execution_count": 6,
   "id": "d9274fb9",
   "metadata": {},
   "outputs": [],
   "source": [
    "def _run_article_summary(article):\n",
    "    \n",
    "    #creating a dictionary for the word frequency table\n",
    "    frequency_table = _create_dictionary_table(article)\n",
    "\n",
    "    #tokenizing the sentences\n",
    "    sentences = sent_tokenize(article)\n",
    "\n",
    "    #algorithm for scoring a sentence by its words\n",
    "    sentence_scores = _calculate_sentence_scores(sentences, frequency_table)\n",
    "\n",
    "    #getting the threshold\n",
    "    threshold = _calculate_average_score(sentence_scores)\n",
    "\n",
    "    #producing the summary\n",
    "    article_summary = _get_article_summary(sentences, sentence_scores, 1.25*threshold)\n",
    "\n",
    "    return article_summary"
   ]
  },
  {
   "cell_type": "code",
   "execution_count": 7,
   "id": "20b61e07",
   "metadata": {},
   "outputs": [
    {
     "name": "stdout",
     "output_type": "stream",
     "text": [
      " It is an Indian festival that marks the victory of good over bad (evil). It is a festival celebrated by Indians with great enthusiasm. The festival commemorates joy, harmony and victory. Thus, it becomes the festival of lights. It is celebrated in the Hindu month called Kartika. It is one of the biggest and grandest festivals celebrated mainly in India. It is celebrated after 20 days of the Dussehra festival. The word ‘Deepavali’ is a Hindi word which means an array of lamps (‘Deep’ means earthen lamps and ‘Avali’ means a queue or an array).Diwali is celebrated in the honour of Lord Ramchandra because on this day Lord Rama returned to Ayodhya after 14 years of exile. The five days are Dhanteras, Naraka Chaturdashi, Lakshmi Pooja, Govardhan Pooja, and Bhai Dooj. The preparations start from one month before the actual date of the festival and people indulge in buying new clothes, gifts, new books, lights, crackers, sweets, dry fruits, etc.Some also believe in discarding old things and buying new ones, a refresher once in a year. It is believed that Goddess Lakshmi visits the place of worship (maybe house or office) on Diwali and blesses them. There are many instances where kids hurt themselves while bursting crackers. It is important to burst crackers only under adult supervision. It is believed that Goddess Lakshmi visits people’s houses on Diwali night to bless them. for the festival. The festival is usually celebrated for three days. The first day is called Dhanteras on which there is a tradition to buy new items, especially ornaments. The next days are to celebrate Diwali when people burst crackers and adorn their houses. There is also a custom to visit your friends and families and exchange gifts. The festival brings joy and hence, it is my favourite festival!It is aptly given the name Diwali as the whole world lights up on this day of the festival. The festival is a symbol of victory of good over evil. It is also celebrated to bring prosperity, wealth and peace.2. There are many ways to celebrate Diwali.\n"
     ]
    }
   ],
   "source": [
    "# fetching the content from the URL\n",
    "fetched_data = urllib.request.urlopen('https://www.vedantu.com/english/essay-on-diwali')\n",
    "\n",
    "article_read = fetched_data.read()\n",
    "\n",
    "#parsing the URL content and storing in a variable\n",
    "article_parsed = BeautifulSoup.BeautifulSoup(article_read,'html.parser')\n",
    "\n",
    "#returning <p> tags\n",
    "paragraphs = article_parsed.find_all('p')\n",
    "\n",
    "article_content = ''\n",
    "\n",
    "#looping through the paragraphs and adding them to the variable\n",
    "for p in paragraphs: \n",
    "    article_content += p.text\n",
    "# print(article_content)\n",
    "\n",
    "# f=open('input.txt','r',encoding='utf-8')\n",
    "# article_content1=''\n",
    "# article_content1=f.read().replace('\\n','')\n",
    "# f.close()\n",
    "summary_results = _run_article_summary(article_content)\n",
    "print(summary_results)"
   ]
  },
  {
   "cell_type": "code",
   "execution_count": null,
   "id": "8fd56657",
   "metadata": {},
   "outputs": [],
   "source": []
  }
 ],
 "metadata": {
  "kernelspec": {
   "display_name": "Python 3 (ipykernel)",
   "language": "python",
   "name": "python3"
  },
  "language_info": {
   "codemirror_mode": {
    "name": "ipython",
    "version": 3
   },
   "file_extension": ".py",
   "mimetype": "text/x-python",
   "name": "python",
   "nbconvert_exporter": "python",
   "pygments_lexer": "ipython3",
   "version": "3.10.0"
  }
 },
 "nbformat": 4,
 "nbformat_minor": 5
}
